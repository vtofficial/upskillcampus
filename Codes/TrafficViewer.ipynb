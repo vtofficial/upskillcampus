{
 "cells": [
  {
   "cell_type": "code",
   "execution_count": 4,
   "metadata": {
    "_cell_guid": "b1076dfc-b9ad-4769-8c92-a6c4dae69d19",
    "_uuid": "8f2839f25d086af736a60e9eeb907d3b93b6e0e5",
    "execution": {
     "iopub.execute_input": "2023-08-05T11:08:43.731987Z",
     "iopub.status.busy": "2023-08-05T11:08:43.731217Z",
     "iopub.status.idle": "2023-08-05T11:08:43.787383Z",
     "shell.execute_reply": "2023-08-05T11:08:43.785858Z",
     "shell.execute_reply.started": "2023-08-05T11:08:43.731943Z"
    }
   },
   "outputs": [],
   "source": [
    "import numpy as np\n",
    "import pandas as pd\n",
    "import os\n",
    "for dirname, _, filenames in os.walk('download/project'):\n",
    "    for filename in filenames:\n",
    "        print(os.path.join(dirname, filename))"
   ]
  },
  {
   "cell_type": "code",
   "execution_count": null,
   "metadata": {
    "execution": {
     "iopub.execute_input": "2023-08-05T11:10:25.208534Z",
     "iopub.status.busy": "2023-08-05T11:10:25.207992Z",
     "iopub.status.idle": "2023-08-05T11:10:28.476714Z",
     "shell.execute_reply": "2023-08-05T11:10:28.475046Z",
     "shell.execute_reply.started": "2023-08-05T11:10:25.208497Z"
    }
   },
   "outputs": [],
   "source": [
    "import matplotlib.pyplot as plt\n",
    "%matplotlib inline\n",
    "from datetime import datetime\n",
    "import time\n",
    "import seaborn as sns\n",
    "from sklearn.preprocessing import *\n",
    "from sklearn.model_selection import *\n",
    "from sklearn.metrics import *\n",
    "import lightgbm as lgb\n",
    "import xgboost as xgb\n",
    "from sklearn.ensemble import RandomForestRegressor"
   ]
  },
  {
   "cell_type": "code",
   "execution_count": 5,
   "metadata": {
    "execution": {
     "iopub.execute_input": "2023-08-05T11:15:06.812023Z",
     "iopub.status.busy": "2023-08-05T11:15:06.811560Z",
     "iopub.status.idle": "2023-08-05T11:15:06.878088Z",
     "shell.execute_reply": "2023-08-05T11:15:06.876803Z",
     "shell.execute_reply.started": "2023-08-05T11:15:06.811987Z"
    }
   },
   "outputs": [],
   "source": [
    "test = pd.read_csv('test_BdBKkAj (1).csv')\n",
    "train = pd.read_csv('train_aWnotuB (1).csv')"
   ]
  },
  {
   "cell_type": "code",
   "execution_count": null,
   "metadata": {
    "execution": {
     "iopub.execute_input": "2023-08-05T11:15:08.915950Z",
     "iopub.status.busy": "2023-08-05T11:15:08.915251Z",
     "iopub.status.idle": "2023-08-05T11:15:09.176884Z",
     "shell.execute_reply": "2023-08-05T11:15:09.175498Z",
     "shell.execute_reply.started": "2023-08-05T11:15:08.915889Z"
    }
   },
   "outputs": [],
   "source": [
    "def data_inf(data,name):\n",
    "    print('rows: ',data.shape[0],' ,columns: ',data.shape[1],' in',name,'\\n')\n",
    "    data.info()\n",
    "    print('\\n')\n",
    "data_inf(train,'Train')\n",
    "display(train.head(5).append(train.tail(5)))"
   ]
  },
  {
   "cell_type": "code",
   "execution_count": null,
   "metadata": {
    "execution": {
     "iopub.execute_input": "2023-08-05T11:15:13.891148Z",
     "iopub.status.busy": "2023-08-05T11:15:13.890679Z",
     "iopub.status.idle": "2023-08-05T11:15:13.918896Z",
     "shell.execute_reply": "2023-08-05T11:15:13.917159Z",
     "shell.execute_reply.started": "2023-08-05T11:15:13.891111Z"
    }
   },
   "outputs": [],
   "source": [
    "data_inf(test,\"Test\")\n",
    "display(test.head(5).append(test.tail(5)))"
   ]
  },
  {
   "cell_type": "code",
   "execution_count": null,
   "metadata": {
    "execution": {
     "iopub.execute_input": "2023-08-05T11:15:52.001100Z",
     "iopub.status.busy": "2023-08-05T11:15:52.000546Z",
     "iopub.status.idle": "2023-08-05T11:15:52.075119Z",
     "shell.execute_reply": "2023-08-05T11:15:52.073536Z",
     "shell.execute_reply.started": "2023-08-05T11:15:52.001058Z"
    }
   },
   "outputs": [],
   "source": [
    "display(train.describe())\n",
    "display(train.describe(include = 'object'))"
   ]
  },
  {
   "cell_type": "code",
   "execution_count": null,
   "metadata": {
    "execution": {
     "iopub.execute_input": "2023-08-05T11:16:38.364371Z",
     "iopub.status.busy": "2023-08-05T11:16:38.363701Z",
     "iopub.status.idle": "2023-08-05T11:16:38.392889Z",
     "shell.execute_reply": "2023-08-05T11:16:38.390945Z",
     "shell.execute_reply.started": "2023-08-05T11:16:38.364321Z"
    }
   },
   "outputs": [],
   "source": [
    "print('before dropping ',train.shape[0])\n",
    "train.drop_duplicates(keep=\"first\", inplace=True) \n",
    "print('after dropping ',train.shape[0])"
   ]
  },
  {
   "cell_type": "code",
   "execution_count": null,
   "metadata": {
    "execution": {
     "iopub.execute_input": "2023-08-05T11:19:44.348324Z",
     "iopub.status.busy": "2023-08-05T11:19:44.347715Z",
     "iopub.status.idle": "2023-08-05T11:19:44.385034Z",
     "shell.execute_reply": "2023-08-05T11:19:44.383333Z",
     "shell.execute_reply.started": "2023-08-05T11:19:44.348278Z"
    }
   },
   "outputs": [],
   "source": [
    "if(train.isnull().sum().sum()==0):\n",
    "    print('no missing values in train')\n",
    "else:\n",
    "    train.fillna(method='ffill',inplace=True)\n",
    "if(test.isnull().sum().sum()==0):\n",
    "    print('no missing values in test')    \n",
    "else:\n",
    "    test.fillna(method='ffill',inplace=True)"
   ]
  },
  {
   "cell_type": "code",
   "execution_count": null,
   "metadata": {
    "execution": {
     "iopub.execute_input": "2023-08-05T11:22:30.650454Z",
     "iopub.status.busy": "2023-08-05T11:22:30.649889Z",
     "iopub.status.idle": "2023-08-05T11:22:30.685169Z",
     "shell.execute_reply": "2023-08-05T11:22:30.683553Z",
     "shell.execute_reply.started": "2023-08-05T11:22:30.650415Z"
    }
   },
   "outputs": [],
   "source": [
    "print('before converting :',train['DateTime'].dtype)\n",
    "train['DateTime'] = pd.to_datetime(train['DateTime'])\n",
    "test['DateTime'] = pd.to_datetime(test['DateTime'])\n",
    "print('after converting :',train['DateTime'].dtype)"
   ]
  },
  {
   "cell_type": "code",
   "execution_count": null,
   "metadata": {
    "execution": {
     "iopub.execute_input": "2023-08-05T11:22:42.784530Z",
     "iopub.status.busy": "2023-08-05T11:22:42.784016Z",
     "iopub.status.idle": "2023-08-05T11:22:42.803496Z",
     "shell.execute_reply": "2023-08-05T11:22:42.801877Z",
     "shell.execute_reply.started": "2023-08-05T11:22:42.784491Z"
    }
   },
   "outputs": [],
   "source": [
    "train.info()"
   ]
  },
  {
   "cell_type": "code",
   "execution_count": null,
   "metadata": {
    "execution": {
     "iopub.execute_input": "2023-08-05T11:23:22.047001Z",
     "iopub.status.busy": "2023-08-05T11:23:22.046500Z",
     "iopub.status.idle": "2023-08-05T11:23:22.522951Z",
     "shell.execute_reply": "2023-08-05T11:23:22.521399Z",
     "shell.execute_reply.started": "2023-08-05T11:23:22.046966Z"
    }
   },
   "outputs": [],
   "source": [
    "train[\"Year\"]= train['DateTime'].dt.year  \n",
    "train[\"Month\"]= train['DateTime'].dt.month  \n",
    "train[\"Date_no\"]= train['DateTime'].dt.day  \n",
    "train[\"Hour\"]= train['DateTime'].dt.hour  \n",
    "train[\"Day\"]= train.DateTime.dt.strftime(\"%A\")\n",
    "\n",
    "test[\"Year\"]= test['DateTime'].dt.year  \n",
    "test[\"Month\"]= test['DateTime'].dt.month  \n",
    "test[\"Date_no\"]= test['DateTime'].dt.day  \n",
    "test[\"Hour\"]= test['DateTime'].dt.hour  \n",
    "test[\"Day\"]= test.DateTime.dt.strftime(\"%A\")"
   ]
  },
  {
   "cell_type": "code",
   "execution_count": null,
   "metadata": {
    "execution": {
     "iopub.execute_input": "2023-08-05T11:23:31.122817Z",
     "iopub.status.busy": "2023-08-05T11:23:31.122282Z",
     "iopub.status.idle": "2023-08-05T11:23:31.140408Z",
     "shell.execute_reply": "2023-08-05T11:23:31.139167Z",
     "shell.execute_reply.started": "2023-08-05T11:23:31.122775Z"
    }
   },
   "outputs": [],
   "source": [
    "train.head()"
   ]
  },
  {
   "cell_type": "code",
   "execution_count": null,
   "metadata": {
    "execution": {
     "iopub.execute_input": "2023-08-05T11:23:37.436057Z",
     "iopub.status.busy": "2023-08-05T11:23:37.435032Z",
     "iopub.status.idle": "2023-08-05T11:23:37.455990Z",
     "shell.execute_reply": "2023-08-05T11:23:37.454799Z",
     "shell.execute_reply.started": "2023-08-05T11:23:37.436005Z"
    }
   },
   "outputs": [],
   "source": [
    "test.head()"
   ]
  },
  {
   "cell_type": "code",
   "execution_count": null,
   "metadata": {
    "execution": {
     "iopub.execute_input": "2023-08-05T11:24:46.890676Z",
     "iopub.status.busy": "2023-08-05T11:24:46.890151Z",
     "iopub.status.idle": "2023-08-05T11:24:48.220318Z",
     "shell.execute_reply": "2023-08-05T11:24:48.218719Z",
     "shell.execute_reply.started": "2023-08-05T11:24:46.890638Z"
    }
   },
   "outputs": [],
   "source": [
    "colors = [ \"#FFD4DB\",\"#BBE7FE\",\"#D3B5E5\",\"#dfe2b6\"]\n",
    "plt.figure(figsize=(20,4),facecolor=\"#627D78\")  \n",
    "time_series=sns.lineplot(x=train['DateTime'],y=\"Vehicles\",data=train, hue=\"Junction\", palette=colors)  \n",
    "time_series.set_title(\"DateTime vs Vehicle\")  \n",
    "time_series.set_ylabel(\"Vehicles in Number\")  \n",
    "time_series.set_xlabel(\"DateTime\") "
   ]
  },
  {
   "cell_type": "code",
   "execution_count": null,
   "metadata": {
    "execution": {
     "iopub.execute_input": "2023-08-05T11:25:15.310234Z",
     "iopub.status.busy": "2023-08-05T11:25:15.309144Z",
     "iopub.status.idle": "2023-08-05T11:25:15.770512Z",
     "shell.execute_reply": "2023-08-05T11:25:15.768835Z",
     "shell.execute_reply.started": "2023-08-05T11:25:15.310163Z"
    }
   },
   "outputs": [],
   "source": [
    "plt.figure(figsize=(12,5),facecolor=\"#627D78\")  \n",
    "colors = [ \"#FFD4DB\",\"#BBE7FE\",\"#D3B5E5\",\"#dfe2b6\"]\n",
    "count = sns.countplot(data=train, x =train[\"Year\"], hue=\"Junction\", palette=colors)  \n",
    "count.set_title(\"Years of Traffic at Junctions\")  \n",
    "count.set_ylabel(\"Vehicles in numbers\")  \n",
    "count.set_xlabel(\"Date\") "
   ]
  },
  {
   "cell_type": "code",
   "execution_count": null,
   "metadata": {
    "execution": {
     "iopub.execute_input": "2023-08-05T11:25:39.075060Z",
     "iopub.status.busy": "2023-08-05T11:25:39.074336Z",
     "iopub.status.idle": "2023-08-05T11:25:39.661096Z",
     "shell.execute_reply": "2023-08-05T11:25:39.659413Z",
     "shell.execute_reply.started": "2023-08-05T11:25:39.075008Z"
    }
   },
   "outputs": [],
   "source": [
    "corrmat = train.corr()  \n",
    "plt.subplots(figsize=(10,10),facecolor=\"#627D78\")  \n",
    "sns.heatmap(corrmat,cmap= \"Pastel2\",annot=True,square=True, )  "
   ]
  },
  {
   "cell_type": "code",
   "execution_count": null,
   "metadata": {
    "execution": {
     "iopub.execute_input": "2023-08-05T11:27:31.724026Z",
     "iopub.status.busy": "2023-08-05T11:27:31.723424Z",
     "iopub.status.idle": "2023-08-05T11:27:31.731668Z",
     "shell.execute_reply": "2023-08-05T11:27:31.730469Z",
     "shell.execute_reply.started": "2023-08-05T11:27:31.723982Z"
    }
   },
   "outputs": [],
   "source": [
    "def datetounix1(df):\n",
    "    unixtime = []\n",
    "    \n",
    "    for date in df['DateTime']:\n",
    "        unixtime.append(time.mktime(date.timetuple()))\n",
    "    \n",
    "    df['DateTime'] = unixtime\n",
    "    return(df)"
   ]
  },
  {
   "cell_type": "code",
   "execution_count": null,
   "metadata": {
    "execution": {
     "iopub.execute_input": "2023-08-05T11:28:16.847715Z",
     "iopub.status.busy": "2023-08-05T11:28:16.846202Z",
     "iopub.status.idle": "2023-08-05T11:28:16.871558Z",
     "shell.execute_reply": "2023-08-05T11:28:16.870014Z",
     "shell.execute_reply.started": "2023-08-05T11:28:16.847658Z"
    }
   },
   "outputs": [],
   "source": [
    "train.head()"
   ]
  },
  {
   "cell_type": "code",
   "execution_count": null,
   "metadata": {
    "execution": {
     "iopub.execute_input": "2023-08-05T11:29:02.517220Z",
     "iopub.status.busy": "2023-08-05T11:29:02.516699Z",
     "iopub.status.idle": "2023-08-05T11:29:03.109206Z",
     "shell.execute_reply": "2023-08-05T11:29:03.107794Z",
     "shell.execute_reply.started": "2023-08-05T11:29:02.517175Z"
    }
   },
   "outputs": [],
   "source": [
    "train_features = datetounix1(train.drop(['Vehicles'], axis=1))\n",
    "test_features = datetounix1(test)\n",
    "\n",
    "X = train_features  \n",
    "X_valid = test_features\n",
    "X = pd.get_dummies(X)\n",
    "X_valid = pd.get_dummies(X_valid)\n",
    "\n",
    "y = train['Vehicles'].to_frame()\n",
    "\n",
    "X_train, X_test, y_train, y_test = train_test_split(X, y, test_size=0.33, random_state=512)"
   ]
  },
  {
   "cell_type": "code",
   "execution_count": null,
   "metadata": {
    "execution": {
     "iopub.execute_input": "2023-08-05T11:29:30.635000Z",
     "iopub.status.busy": "2023-08-05T11:29:30.634538Z",
     "iopub.status.idle": "2023-08-05T11:29:31.889737Z",
     "shell.execute_reply": "2023-08-05T11:29:31.888026Z",
     "shell.execute_reply.started": "2023-08-05T11:29:30.634967Z"
    }
   },
   "outputs": [],
   "source": [
    "train_data = lgb.Dataset(X_train, label=y_train)\n",
    "params = {\n",
    "    'objective': 'regression',\n",
    "    'metric': 'rmse'  \n",
    "}\n",
    "\n",
    "model = lgb.train(params,train_data, num_boost_round=100)\n",
    "\n",
    "y_pred = model.predict(X_test)\n",
    "mse = mean_squared_error(y_test, y_pred)\n",
    "mae = mean_absolute_error(y_test, y_pred)\n",
    "r2 = r2_score(y_test, y_pred)\n",
    "print(\"Mean Squared Error:\", mse)\n",
    "print(\"Mean Absolute Error:\", mae)\n",
    "print(\"R2 Score:\", r2)"
   ]
  },
  {
   "cell_type": "code",
   "execution_count": null,
   "metadata": {
    "execution": {
     "iopub.execute_input": "2023-08-05T11:30:58.650380Z",
     "iopub.status.busy": "2023-08-05T11:30:58.649821Z",
     "iopub.status.idle": "2023-08-05T11:31:12.961147Z",
     "shell.execute_reply": "2023-08-05T11:31:12.960161Z",
     "shell.execute_reply.started": "2023-08-05T11:30:58.650339Z"
    }
   },
   "outputs": [],
   "source": [
    "rf_regressor = RandomForestRegressor(n_estimators=100, random_state=42)\n",
    "rf_regressor.fit(X_train, y_train)\n",
    "y_pred = rf_regressor.predict(X_test)"
   ]
  },
  {
   "cell_type": "code",
   "execution_count": null,
   "metadata": {
    "execution": {
     "iopub.execute_input": "2023-08-05T11:31:18.442360Z",
     "iopub.status.busy": "2023-08-05T11:31:18.441174Z",
     "iopub.status.idle": "2023-08-05T11:31:18.457672Z",
     "shell.execute_reply": "2023-08-05T11:31:18.455943Z",
     "shell.execute_reply.started": "2023-08-05T11:31:18.442316Z"
    }
   },
   "outputs": [],
   "source": [
    "mse = mean_squared_error(y_test, y_pred)\n",
    "mae = mean_absolute_error(y_test, y_pred)\n",
    "r2 = r2_score(y_test, y_pred)\n",
    "print(\"Mean Squared Error:\", mse)\n",
    "print(\"Mean Absolute Error:\", mae)\n",
    "print(\"R2 Score:\", r2)"
   ]
  },
  {
   "cell_type": "code",
   "execution_count": null,
   "metadata": {},
   "outputs": [],
   "source": []
  },
  {
   "cell_type": "code",
   "execution_count": null,
   "metadata": {},
   "outputs": [],
   "source": []
  },
  {
   "cell_type": "code",
   "execution_count": null,
   "metadata": {},
   "outputs": [],
   "source": []
  },
  {
   "cell_type": "code",
   "execution_count": null,
   "metadata": {},
   "outputs": [],
   "source": []
  },
  {
   "cell_type": "code",
   "execution_count": null,
   "metadata": {},
   "outputs": [],
   "source": []
  },
  {
   "cell_type": "code",
   "execution_count": null,
   "metadata": {},
   "outputs": [],
   "source": []
  }
 ],
 "metadata": {
  "kernelspec": {
   "display_name": "Python 3 (ipykernel)",
   "language": "python",
   "name": "python3"
  },
  "language_info": {
   "codemirror_mode": {
    "name": "ipython",
    "version": 3
   },
   "file_extension": ".py",
   "mimetype": "text/x-python",
   "name": "python",
   "nbconvert_exporter": "python",
   "pygments_lexer": "ipython3",
   "version": "3.11.3"
  }
 },
 "nbformat": 4,
 "nbformat_minor": 4
}
